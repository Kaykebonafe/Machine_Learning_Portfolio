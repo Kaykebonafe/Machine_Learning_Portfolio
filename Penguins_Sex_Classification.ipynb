{
 "cells": [
  {
   "cell_type": "markdown",
   "id": "49859978-3f67-4640-86de-70414387bf27",
   "metadata": {},
   "source": [
    "### Libraries Used"
   ]
  },
  {
   "cell_type": "code",
   "execution_count": 169,
   "id": "1304d162-6335-410b-86cb-7fafb50bf1dc",
   "metadata": {},
   "outputs": [],
   "source": [
    "import pandas as pd\n",
    "import numpy as np\n",
    "\n",
    "from sklearn.model_selection import train_test_split\n",
    "from sklearn.svm import SVC\n",
    "from sklearn.neural_network import MLPClassifier\n",
    "from sklearn.ensemble import AdaBoostClassifier, BaggingClassifier, GradientBoostingClassifier, HistGradientBoostingClassifier, RandomForestClassifier\n",
    "from sklearn.tree import DecisionTreeClassifier, ExtraTreeClassifier\n",
    "from sklearn.naive_bayes import GaussianNB\n",
    "from sklearn.neighbors import KNeighborsClassifier, RadiusNeighborsClassifier \n",
    "from sklearn.impute import SimpleImputer\n",
    "from sklearn.metrics import accuracy_score, precision_score, f1_score"
   ]
  },
  {
   "cell_type": "markdown",
   "id": "32626c51-ca10-4381-9b78-9b7a9dd25549",
   "metadata": {},
   "source": [
    "#### Importing Data"
   ]
  },
  {
   "cell_type": "code",
   "execution_count": 197,
   "id": "28fa848b-888f-409d-a178-1bb899ca2207",
   "metadata": {},
   "outputs": [],
   "source": [
    "df = pd.read_csv(f'/home/kaykebk/Downloads/penguins_size.csv')"
   ]
  },
  {
   "cell_type": "markdown",
   "id": "ca357eef-cb6f-4e19-8a7f-124ad9ccd7ef",
   "metadata": {},
   "source": [
    "#### Transforming Sex class into 0 an 1"
   ]
  },
  {
   "cell_type": "code",
   "execution_count": 198,
   "id": "f37bf5fa-d873-4fea-871a-2c112bc26cd6",
   "metadata": {},
   "outputs": [],
   "source": [
    "df['sex'] = df['sex'].map({'MALE': 0, 'FEMALE': 1})"
   ]
  },
  {
   "cell_type": "markdown",
   "id": "eeb81024-00d6-4860-ac20-810993846e41",
   "metadata": {},
   "source": [
    "#### Showing data characteristics"
   ]
  },
  {
   "cell_type": "code",
   "execution_count": 199,
   "id": "f06a51ff-1b44-434d-b15b-d864dbb9fc01",
   "metadata": {},
   "outputs": [
    {
     "name": "stdout",
     "output_type": "stream",
     "text": [
      "<class 'pandas.core.frame.DataFrame'>\n",
      "RangeIndex: 344 entries, 0 to 343\n",
      "Data columns (total 7 columns):\n",
      " #   Column             Non-Null Count  Dtype  \n",
      "---  ------             --------------  -----  \n",
      " 0   species            344 non-null    object \n",
      " 1   island             344 non-null    object \n",
      " 2   culmen_length_mm   342 non-null    float64\n",
      " 3   culmen_depth_mm    342 non-null    float64\n",
      " 4   flipper_length_mm  342 non-null    float64\n",
      " 5   body_mass_g        342 non-null    float64\n",
      " 6   sex                333 non-null    float64\n",
      "dtypes: float64(5), object(2)\n",
      "memory usage: 18.9+ KB\n"
     ]
    }
   ],
   "source": [
    "df.info()"
   ]
  },
  {
   "cell_type": "code",
   "execution_count": 201,
   "id": "00b35f9e-f468-4186-b51b-dfca5c9b5234",
   "metadata": {},
   "outputs": [
    {
     "data": {
      "text/html": [
       "<div>\n",
       "<style scoped>\n",
       "    .dataframe tbody tr th:only-of-type {\n",
       "        vertical-align: middle;\n",
       "    }\n",
       "\n",
       "    .dataframe tbody tr th {\n",
       "        vertical-align: top;\n",
       "    }\n",
       "\n",
       "    .dataframe thead th {\n",
       "        text-align: right;\n",
       "    }\n",
       "</style>\n",
       "<table border=\"1\" class=\"dataframe\">\n",
       "  <thead>\n",
       "    <tr style=\"text-align: right;\">\n",
       "      <th></th>\n",
       "      <th>species</th>\n",
       "      <th>island</th>\n",
       "      <th>culmen_length_mm</th>\n",
       "      <th>culmen_depth_mm</th>\n",
       "      <th>flipper_length_mm</th>\n",
       "      <th>body_mass_g</th>\n",
       "      <th>sex</th>\n",
       "    </tr>\n",
       "  </thead>\n",
       "  <tbody>\n",
       "    <tr>\n",
       "      <th>count</th>\n",
       "      <td>344</td>\n",
       "      <td>344</td>\n",
       "      <td>342.000000</td>\n",
       "      <td>342.000000</td>\n",
       "      <td>342.000000</td>\n",
       "      <td>342.000000</td>\n",
       "      <td>333.000000</td>\n",
       "    </tr>\n",
       "    <tr>\n",
       "      <th>unique</th>\n",
       "      <td>3</td>\n",
       "      <td>3</td>\n",
       "      <td>NaN</td>\n",
       "      <td>NaN</td>\n",
       "      <td>NaN</td>\n",
       "      <td>NaN</td>\n",
       "      <td>NaN</td>\n",
       "    </tr>\n",
       "    <tr>\n",
       "      <th>top</th>\n",
       "      <td>Adelie</td>\n",
       "      <td>Biscoe</td>\n",
       "      <td>NaN</td>\n",
       "      <td>NaN</td>\n",
       "      <td>NaN</td>\n",
       "      <td>NaN</td>\n",
       "      <td>NaN</td>\n",
       "    </tr>\n",
       "    <tr>\n",
       "      <th>freq</th>\n",
       "      <td>152</td>\n",
       "      <td>168</td>\n",
       "      <td>NaN</td>\n",
       "      <td>NaN</td>\n",
       "      <td>NaN</td>\n",
       "      <td>NaN</td>\n",
       "      <td>NaN</td>\n",
       "    </tr>\n",
       "    <tr>\n",
       "      <th>mean</th>\n",
       "      <td>NaN</td>\n",
       "      <td>NaN</td>\n",
       "      <td>43.921930</td>\n",
       "      <td>17.151170</td>\n",
       "      <td>200.915205</td>\n",
       "      <td>4201.754386</td>\n",
       "      <td>0.495495</td>\n",
       "    </tr>\n",
       "    <tr>\n",
       "      <th>std</th>\n",
       "      <td>NaN</td>\n",
       "      <td>NaN</td>\n",
       "      <td>5.459584</td>\n",
       "      <td>1.974793</td>\n",
       "      <td>14.061714</td>\n",
       "      <td>801.954536</td>\n",
       "      <td>0.500732</td>\n",
       "    </tr>\n",
       "    <tr>\n",
       "      <th>min</th>\n",
       "      <td>NaN</td>\n",
       "      <td>NaN</td>\n",
       "      <td>32.100000</td>\n",
       "      <td>13.100000</td>\n",
       "      <td>172.000000</td>\n",
       "      <td>2700.000000</td>\n",
       "      <td>0.000000</td>\n",
       "    </tr>\n",
       "    <tr>\n",
       "      <th>25%</th>\n",
       "      <td>NaN</td>\n",
       "      <td>NaN</td>\n",
       "      <td>39.225000</td>\n",
       "      <td>15.600000</td>\n",
       "      <td>190.000000</td>\n",
       "      <td>3550.000000</td>\n",
       "      <td>0.000000</td>\n",
       "    </tr>\n",
       "    <tr>\n",
       "      <th>50%</th>\n",
       "      <td>NaN</td>\n",
       "      <td>NaN</td>\n",
       "      <td>44.450000</td>\n",
       "      <td>17.300000</td>\n",
       "      <td>197.000000</td>\n",
       "      <td>4050.000000</td>\n",
       "      <td>0.000000</td>\n",
       "    </tr>\n",
       "    <tr>\n",
       "      <th>75%</th>\n",
       "      <td>NaN</td>\n",
       "      <td>NaN</td>\n",
       "      <td>48.500000</td>\n",
       "      <td>18.700000</td>\n",
       "      <td>213.000000</td>\n",
       "      <td>4750.000000</td>\n",
       "      <td>1.000000</td>\n",
       "    </tr>\n",
       "    <tr>\n",
       "      <th>max</th>\n",
       "      <td>NaN</td>\n",
       "      <td>NaN</td>\n",
       "      <td>59.600000</td>\n",
       "      <td>21.500000</td>\n",
       "      <td>231.000000</td>\n",
       "      <td>6300.000000</td>\n",
       "      <td>1.000000</td>\n",
       "    </tr>\n",
       "  </tbody>\n",
       "</table>\n",
       "</div>"
      ],
      "text/plain": [
       "       species  island  culmen_length_mm  culmen_depth_mm  flipper_length_mm  \\\n",
       "count      344     344        342.000000       342.000000         342.000000   \n",
       "unique       3       3               NaN              NaN                NaN   \n",
       "top     Adelie  Biscoe               NaN              NaN                NaN   \n",
       "freq       152     168               NaN              NaN                NaN   \n",
       "mean       NaN     NaN         43.921930        17.151170         200.915205   \n",
       "std        NaN     NaN          5.459584         1.974793          14.061714   \n",
       "min        NaN     NaN         32.100000        13.100000         172.000000   \n",
       "25%        NaN     NaN         39.225000        15.600000         190.000000   \n",
       "50%        NaN     NaN         44.450000        17.300000         197.000000   \n",
       "75%        NaN     NaN         48.500000        18.700000         213.000000   \n",
       "max        NaN     NaN         59.600000        21.500000         231.000000   \n",
       "\n",
       "        body_mass_g         sex  \n",
       "count    342.000000  333.000000  \n",
       "unique          NaN         NaN  \n",
       "top             NaN         NaN  \n",
       "freq            NaN         NaN  \n",
       "mean    4201.754386    0.495495  \n",
       "std      801.954536    0.500732  \n",
       "min     2700.000000    0.000000  \n",
       "25%     3550.000000    0.000000  \n",
       "50%     4050.000000    0.000000  \n",
       "75%     4750.000000    1.000000  \n",
       "max     6300.000000    1.000000  "
      ]
     },
     "execution_count": 201,
     "metadata": {},
     "output_type": "execute_result"
    }
   ],
   "source": [
    "df.describe(include='all')"
   ]
  },
  {
   "cell_type": "code",
   "execution_count": 203,
   "id": "d8e63ca0-f056-48a8-9210-6c426073f092",
   "metadata": {},
   "outputs": [
    {
     "data": {
      "text/html": [
       "<div>\n",
       "<style scoped>\n",
       "    .dataframe tbody tr th:only-of-type {\n",
       "        vertical-align: middle;\n",
       "    }\n",
       "\n",
       "    .dataframe tbody tr th {\n",
       "        vertical-align: top;\n",
       "    }\n",
       "\n",
       "    .dataframe thead th {\n",
       "        text-align: right;\n",
       "    }\n",
       "</style>\n",
       "<table border=\"1\" class=\"dataframe\">\n",
       "  <thead>\n",
       "    <tr style=\"text-align: right;\">\n",
       "      <th></th>\n",
       "      <th>culmen_length_mm</th>\n",
       "      <th>culmen_depth_mm</th>\n",
       "      <th>flipper_length_mm</th>\n",
       "      <th>body_mass_g</th>\n",
       "      <th>sex</th>\n",
       "    </tr>\n",
       "  </thead>\n",
       "  <tbody>\n",
       "    <tr>\n",
       "      <th>culmen_length_mm</th>\n",
       "      <td>1.000000</td>\n",
       "      <td>-0.235053</td>\n",
       "      <td>0.656181</td>\n",
       "      <td>0.595110</td>\n",
       "      <td>-0.344078</td>\n",
       "    </tr>\n",
       "    <tr>\n",
       "      <th>culmen_depth_mm</th>\n",
       "      <td>-0.235053</td>\n",
       "      <td>1.000000</td>\n",
       "      <td>-0.583851</td>\n",
       "      <td>-0.471916</td>\n",
       "      <td>-0.372673</td>\n",
       "    </tr>\n",
       "    <tr>\n",
       "      <th>flipper_length_mm</th>\n",
       "      <td>0.656181</td>\n",
       "      <td>-0.583851</td>\n",
       "      <td>1.000000</td>\n",
       "      <td>0.871202</td>\n",
       "      <td>-0.255169</td>\n",
       "    </tr>\n",
       "    <tr>\n",
       "      <th>body_mass_g</th>\n",
       "      <td>0.595110</td>\n",
       "      <td>-0.471916</td>\n",
       "      <td>0.871202</td>\n",
       "      <td>1.000000</td>\n",
       "      <td>-0.424987</td>\n",
       "    </tr>\n",
       "    <tr>\n",
       "      <th>sex</th>\n",
       "      <td>-0.344078</td>\n",
       "      <td>-0.372673</td>\n",
       "      <td>-0.255169</td>\n",
       "      <td>-0.424987</td>\n",
       "      <td>1.000000</td>\n",
       "    </tr>\n",
       "  </tbody>\n",
       "</table>\n",
       "</div>"
      ],
      "text/plain": [
       "                   culmen_length_mm  culmen_depth_mm  flipper_length_mm  \\\n",
       "culmen_length_mm           1.000000        -0.235053           0.656181   \n",
       "culmen_depth_mm           -0.235053         1.000000          -0.583851   \n",
       "flipper_length_mm          0.656181        -0.583851           1.000000   \n",
       "body_mass_g                0.595110        -0.471916           0.871202   \n",
       "sex                       -0.344078        -0.372673          -0.255169   \n",
       "\n",
       "                   body_mass_g       sex  \n",
       "culmen_length_mm      0.595110 -0.344078  \n",
       "culmen_depth_mm      -0.471916 -0.372673  \n",
       "flipper_length_mm     0.871202 -0.255169  \n",
       "body_mass_g           1.000000 -0.424987  \n",
       "sex                  -0.424987  1.000000  "
      ]
     },
     "execution_count": 203,
     "metadata": {},
     "output_type": "execute_result"
    }
   ],
   "source": [
    "df.corr(numeric_only=True)"
   ]
  },
  {
   "cell_type": "markdown",
   "id": "e0838725-b801-4e88-9b1e-e29da1aa3d94",
   "metadata": {},
   "source": [
    "Since there's high correlation between flipper_length_mm and body_mass_g, they're going to be used\n",
    "to train the models and sex will be the target of this classification."
   ]
  },
  {
   "cell_type": "markdown",
   "id": "3b9655f7-438f-4cb6-aec4-4c8d193c72d9",
   "metadata": {},
   "source": [
    "#### Checking if there are null values"
   ]
  },
  {
   "cell_type": "code",
   "execution_count": 206,
   "id": "4cb32938-c073-4e6a-8961-43a55bd84653",
   "metadata": {},
   "outputs": [
    {
     "data": {
      "text/plain": [
       "species               0\n",
       "island                0\n",
       "culmen_length_mm      2\n",
       "culmen_depth_mm       2\n",
       "flipper_length_mm     2\n",
       "body_mass_g           2\n",
       "sex                  11\n",
       "dtype: int64"
      ]
     },
     "execution_count": 206,
     "metadata": {},
     "output_type": "execute_result"
    }
   ],
   "source": [
    "df.isna().sum()"
   ]
  },
  {
   "cell_type": "markdown",
   "id": "9d8bae72-9425-4d5f-a483-b2322b62076e",
   "metadata": {},
   "source": [
    "##### Since there are null values, we'll be using Simple Imputer to fill null data"
   ]
  },
  {
   "cell_type": "code",
   "execution_count": 207,
   "id": "8dba408e-b1c3-497d-bbb1-73ccce2d6434",
   "metadata": {},
   "outputs": [],
   "source": [
    "imputer = SimpleImputer(strategy='most_frequent')"
   ]
  },
  {
   "cell_type": "code",
   "execution_count": 208,
   "id": "53c5b1b6-82d3-4d6c-baa7-8bcdf92facc4",
   "metadata": {},
   "outputs": [],
   "source": [
    "df.iloc[:,:] = imputer.fit_transform(df)"
   ]
  },
  {
   "cell_type": "code",
   "execution_count": 209,
   "id": "f0d7cd94-80a2-478d-a8ab-c834e9f2c0c7",
   "metadata": {},
   "outputs": [
    {
     "data": {
      "text/plain": [
       "species              0\n",
       "island               0\n",
       "culmen_length_mm     0\n",
       "culmen_depth_mm      0\n",
       "flipper_length_mm    0\n",
       "body_mass_g          0\n",
       "sex                  0\n",
       "dtype: int64"
      ]
     },
     "execution_count": 209,
     "metadata": {},
     "output_type": "execute_result"
    }
   ],
   "source": [
    "df.isnull().sum()"
   ]
  },
  {
   "cell_type": "markdown",
   "id": "974a38c4-eb82-45ea-82de-e71b2412fa67",
   "metadata": {},
   "source": [
    "#### Testing Multiple Classifiers"
   ]
  },
  {
   "cell_type": "markdown",
   "id": "ae0a413f-5477-47f0-9467-021b39c246c4",
   "metadata": {},
   "source": [
    "Splitting data into train and test dataset"
   ]
  },
  {
   "cell_type": "code",
   "execution_count": 182,
   "id": "507889b3-9e2b-4d10-8d3b-aab7575d3538",
   "metadata": {},
   "outputs": [],
   "source": [
    "train, test = train_test_split(df, test_size=0.3, random_state=42)"
   ]
  },
  {
   "cell_type": "code",
   "execution_count": 183,
   "id": "a0677be8-758c-4179-81ce-dcb7970e87f0",
   "metadata": {},
   "outputs": [],
   "source": [
    "train_X = train[['flipper_length_mm', 'body_mass_g']]\n",
    "train_y = train['sex']\n",
    "\n",
    "test_X = test[['flipper_length_mm', 'body_mass_g']]\n",
    "test_y = test['sex']"
   ]
  },
  {
   "cell_type": "markdown",
   "id": "3ccad14c-4a73-4499-9621-59e3a7b890c9",
   "metadata": {},
   "source": [
    "#### SVM"
   ]
  },
  {
   "cell_type": "code",
   "execution_count": 184,
   "id": "d0f98433-2e56-4459-b496-61dcd82c5f98",
   "metadata": {},
   "outputs": [
    {
     "name": "stdout",
     "output_type": "stream",
     "text": [
      "Accuracy of SVC is 0.6923076923076923\n",
      "Precision of SVC is 0.6932752781809385\n",
      "F1 Score of SVC is 0.6799999999999999\n"
     ]
    }
   ],
   "source": [
    "model = SVC(random_state=42)\n",
    "model.fit(train_X, train_y)\n",
    "prediction = model.predict(test_X)\n",
    "\n",
    "print(f\"Accuracy of SVC is {accuracy_score(test_y, prediction)}\")\n",
    "print(f\"Precision of SVC is {precision_score(test_y, prediction, labels=df['sex'].unique(), average='weighted')}\")\n",
    "print(f\"F1 Score of SVC is {f1_score(test_y, prediction)}\")"
   ]
  },
  {
   "cell_type": "markdown",
   "id": "a98dff47-8c64-429b-aba1-f7fafddc3e9d",
   "metadata": {},
   "source": [
    "#### MLP"
   ]
  },
  {
   "cell_type": "code",
   "execution_count": 185,
   "id": "8d6a953c-fc25-420d-a890-e182930df126",
   "metadata": {},
   "outputs": [
    {
     "name": "stdout",
     "output_type": "stream",
     "text": [
      "Accuracy of MLP is 0.3173076923076923\n",
      "Precision of MLP is 0.212828330206379\n",
      "F1 Score of MLP is 0.0\n"
     ]
    }
   ],
   "source": [
    "model = MLPClassifier(random_state=42)\n",
    "model.fit(train_X, train_y)\n",
    "prediction = model.predict(test_X)\n",
    "\n",
    "print(f\"Accuracy of MLP is {accuracy_score(test_y, prediction)}\")\n",
    "print(f\"Precision of MLP is {precision_score(test_y, prediction, labels=df['sex'].unique(), average='weighted')}\")\n",
    "print(f\"F1 Score of MLP is {f1_score(test_y, prediction)}\")"
   ]
  },
  {
   "cell_type": "markdown",
   "id": "b905f612-a83f-4d71-b17d-3e8117950849",
   "metadata": {},
   "source": [
    "#### Random Forest"
   ]
  },
  {
   "cell_type": "code",
   "execution_count": 186,
   "id": "633b35f5-fa0f-459b-86a3-62d6ad869e7e",
   "metadata": {},
   "outputs": [
    {
     "name": "stdout",
     "output_type": "stream",
     "text": [
      "Accuracy of Random Forest is 0.7884615384615384\n",
      "Precision of Random Forest is 0.7884184684296666\n",
      "F1 Score of Random Forest is 0.7708333333333333\n"
     ]
    }
   ],
   "source": [
    "model = RandomForestClassifier(random_state=42)\n",
    "model.fit(train_X, train_y)\n",
    "prediction = model.predict(test_X)\n",
    "\n",
    "print(f\"Accuracy of Random Forest is {accuracy_score(test_y, prediction)}\")\n",
    "print(f\"Precision of Random Forest is {precision_score(test_y, prediction, labels=df['sex'].unique(), average='weighted')}\")\n",
    "print(f\"F1 Score of Random Forest is {f1_score(test_y, prediction)}\")"
   ]
  },
  {
   "cell_type": "markdown",
   "id": "880c8c41-2e10-4e3c-b15f-72b18d434c3f",
   "metadata": {},
   "source": [
    "#### Ada Boost"
   ]
  },
  {
   "cell_type": "code",
   "execution_count": 187,
   "id": "a7d9d1f0-f3a7-4975-b994-e3c0c0646fee",
   "metadata": {},
   "outputs": [
    {
     "name": "stdout",
     "output_type": "stream",
     "text": [
      "Accuracy of Ada Boost is 0.8076923076923077\n",
      "Precision of Ada Boost is 0.8086773866434882\n",
      "F1 Score of Ada Boost is 0.7872340425531914\n"
     ]
    }
   ],
   "source": [
    "model = AdaBoostClassifier(random_state=42)\n",
    "model.fit(train_X, train_y)\n",
    "prediction = model.predict(test_X)\n",
    "\n",
    "print(f\"Accuracy of Ada Boost is {accuracy_score(test_y, prediction)}\")\n",
    "print(f\"Precision of Ada Boost is {precision_score(test_y, prediction, labels=df['sex'].unique(), average='weighted')}\")\n",
    "print(f\"F1 Score of Ada Boost is {f1_score(test_y, prediction)}\")"
   ]
  },
  {
   "cell_type": "markdown",
   "id": "ab8cc396-a91e-436b-930d-540b63227e86",
   "metadata": {},
   "source": [
    "#### Bagging"
   ]
  },
  {
   "cell_type": "code",
   "execution_count": 188,
   "id": "c2a2a51c-6079-4f04-81b8-2325912e1e64",
   "metadata": {},
   "outputs": [
    {
     "name": "stdout",
     "output_type": "stream",
     "text": [
      "Accuracy of Bagging is 0.7692307692307693\n",
      "Precision of Bagging is 0.7691159158124443\n",
      "F1 Score of Bagging is 0.7499999999999999\n"
     ]
    }
   ],
   "source": [
    "model = BaggingClassifier(random_state=42)\n",
    "model.fit(train_X, train_y)\n",
    "prediction = model.predict(test_X)\n",
    "\n",
    "print(f\"Accuracy of Bagging is {accuracy_score(test_y, prediction)}\")\n",
    "print(f\"Precision of Bagging is {precision_score(test_y, prediction, labels=df['sex'].unique(), average='weighted')}\")\n",
    "print(f\"F1 Score of Bagging is {f1_score(test_y, prediction)}\")"
   ]
  },
  {
   "cell_type": "markdown",
   "id": "02bfae3a-0357-407b-8b70-82fb40e749ba",
   "metadata": {},
   "source": [
    "#### Gradient Boosting"
   ]
  },
  {
   "cell_type": "code",
   "execution_count": 189,
   "id": "f6a3ede7-4508-4d01-af7f-16f02b4b870b",
   "metadata": {},
   "outputs": [
    {
     "name": "stdout",
     "output_type": "stream",
     "text": [
      "Accuracy of Gradient Boosting is 0.8365384615384616\n",
      "Precision of Gradient Boosting is 0.8368447293447294\n",
      "F1 Score of Gradient Boosting is 0.8282828282828283\n"
     ]
    }
   ],
   "source": [
    "model = GradientBoostingClassifier(random_state=42)\n",
    "model.fit(train_X, train_y)\n",
    "prediction = model.predict(test_X)\n",
    "\n",
    "print(f\"Accuracy of Gradient Boosting is {accuracy_score(test_y, prediction)}\")\n",
    "print(f\"Precision of Gradient Boosting is {precision_score(test_y, prediction, labels=df['sex'].unique(), average='weighted')}\")\n",
    "print(f\"F1 Score of Gradient Boosting is {f1_score(test_y, prediction)}\")"
   ]
  },
  {
   "cell_type": "markdown",
   "id": "46b6d866-c892-4342-a7ac-6a0e2c31628b",
   "metadata": {},
   "source": [
    "#### Hist Gradient Boosting"
   ]
  },
  {
   "cell_type": "code",
   "execution_count": 190,
   "id": "fa5c553e-8f79-49ac-866e-9d87177575eb",
   "metadata": {},
   "outputs": [
    {
     "name": "stdout",
     "output_type": "stream",
     "text": [
      "Accuracy of Hist Gradient Boosting is 0.8076923076923077\n",
      "Precision of Hist Gradient Boosting is 0.8086773866434882\n",
      "F1 Score of Hist Gradient Boosting is 0.7872340425531914\n"
     ]
    }
   ],
   "source": [
    "model = HistGradientBoostingClassifier(random_state=42)\n",
    "model.fit(train_X, train_y)\n",
    "prediction = model.predict(test_X)\n",
    "\n",
    "print(f\"Accuracy of Hist Gradient Boosting is {accuracy_score(test_y, prediction)}\")\n",
    "print(f\"Precision of Hist Gradient Boosting is {precision_score(test_y, prediction, labels=df['sex'].unique(), average='weighted')}\")\n",
    "print(f\"F1 Score of Hist Gradient Boosting is {f1_score(test_y, prediction)}\")"
   ]
  },
  {
   "cell_type": "markdown",
   "id": "670c2382-00ed-460d-afdc-7a61907d9b5a",
   "metadata": {},
   "source": [
    "#### Decision Tree"
   ]
  },
  {
   "cell_type": "code",
   "execution_count": 191,
   "id": "f127c37b-c293-484b-bfd1-14b8ce3bb958",
   "metadata": {},
   "outputs": [
    {
     "name": "stdout",
     "output_type": "stream",
     "text": [
      "Accuracy of Decision Tree is 0.7403846153846154\n",
      "Precision of Decision Tree is 0.7407621082621083\n",
      "F1 Score of Decision Tree is 0.7272727272727272\n"
     ]
    }
   ],
   "source": [
    "model = DecisionTreeClassifier(random_state=42)\n",
    "model.fit(train_X, train_y)\n",
    "prediction = model.predict(test_X)\n",
    "\n",
    "print(f\"Accuracy of Decision Tree is {accuracy_score(test_y, prediction)}\")\n",
    "print(f\"Precision of Decision Tree is {precision_score(test_y, prediction, labels=df['sex'].unique(), average='weighted')}\")\n",
    "print(f\"F1 Score of Decision Tree is {f1_score(test_y, prediction)}\")"
   ]
  },
  {
   "cell_type": "markdown",
   "id": "d4d81896-14c2-4ebe-a420-e3b9a7775e68",
   "metadata": {},
   "source": [
    "#### Extra Tree"
   ]
  },
  {
   "cell_type": "code",
   "execution_count": 192,
   "id": "7add2372-50f3-4ab7-b2a2-4852938ae529",
   "metadata": {},
   "outputs": [
    {
     "name": "stdout",
     "output_type": "stream",
     "text": [
      "Accuracy of Extra Tree is 0.7019230769230769\n",
      "Precision of Extra Tree is 0.7021416083916084\n",
      "F1 Score of Extra Tree is 0.6666666666666666\n"
     ]
    }
   ],
   "source": [
    "model = ExtraTreeClassifier(random_state=42)\n",
    "model.fit(train_X, train_y)\n",
    "prediction = model.predict(test_X)\n",
    "\n",
    "print(f\"Accuracy of Extra Tree is {accuracy_score(test_y, prediction)}\")\n",
    "print(f\"Precision of Extra Tree is {precision_score(test_y, prediction, labels=df['sex'].unique(), average='weighted')}\")\n",
    "print(f\"F1 Score of Extra Tree is {f1_score(test_y, prediction)}\")"
   ]
  },
  {
   "cell_type": "markdown",
   "id": "e48494b5-7be8-4dc3-8835-7d8917be0716",
   "metadata": {},
   "source": [
    "#### KNN"
   ]
  },
  {
   "cell_type": "code",
   "execution_count": 193,
   "id": "58c26e9d-4056-4d56-b37d-d9e26f59eb13",
   "metadata": {},
   "outputs": [
    {
     "name": "stdout",
     "output_type": "stream",
     "text": [
      "Accuracy of KNN is 0.7211538461538461\n",
      "Precision of KNN is 0.7209592319225003\n",
      "F1 Score of KNN is 0.6947368421052631\n"
     ]
    }
   ],
   "source": [
    "model = KNeighborsClassifier()\n",
    "model.fit(train_X, train_y)\n",
    "prediction = model.predict(test_X)\n",
    "\n",
    "print(f\"Accuracy of KNN is {accuracy_score(test_y, prediction)}\")\n",
    "print(f\"Precision of KNN is {precision_score(test_y, prediction, labels=df['sex'].unique(), average='weighted')}\")\n",
    "print(f\"F1 Score of KNN is {f1_score(test_y, prediction)}\")"
   ]
  },
  {
   "cell_type": "markdown",
   "id": "9453c744-8de2-418c-b1d3-37f9175ca6b6",
   "metadata": {},
   "source": [
    "### Results"
   ]
  },
  {
   "cell_type": "markdown",
   "id": "a3586380-b59d-40ad-b5c3-50abcbda11d9",
   "metadata": {},
   "source": [
    "As we can see, Gradient Boost reached the higher metrics results on this subject. However, most of the models performed almost equally, except MLP and SVM.\n",
    "\n",
    "I want to thank you for your time seeing this simple study, it's my first public study and I know there is some errors or inconsistencies, I would appreciate any advice or correction. "
   ]
  }
 ],
 "metadata": {
  "kernelspec": {
   "display_name": "Python 3 (ipykernel)",
   "language": "python",
   "name": "python3"
  },
  "language_info": {
   "codemirror_mode": {
    "name": "ipython",
    "version": 3
   },
   "file_extension": ".py",
   "mimetype": "text/x-python",
   "name": "python",
   "nbconvert_exporter": "python",
   "pygments_lexer": "ipython3",
   "version": "3.11.3"
  }
 },
 "nbformat": 4,
 "nbformat_minor": 5
}
